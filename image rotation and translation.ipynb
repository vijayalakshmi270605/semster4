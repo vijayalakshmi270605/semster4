{
 "cells": [
  {
   "cell_type": "code",
   "execution_count": 19,
   "id": "8343a67b",
   "metadata": {},
   "outputs": [],
   "source": [
    "import cv2\n",
    "import numpy as np"
   ]
  },
  {
   "cell_type": "code",
   "execution_count": 20,
   "id": "1e6d50de",
   "metadata": {},
   "outputs": [],
   "source": [
    "im1=cv2.imread(\"s2.jpg\")"
   ]
  },
  {
   "cell_type": "code",
   "execution_count": 21,
   "id": "2e5a6564",
   "metadata": {},
   "outputs": [
    {
     "name": "stdout",
     "output_type": "stream",
     "text": [
      "(216, 288, 3)\n"
     ]
    }
   ],
   "source": [
    "shp=im1.shape\n",
    "print(shp)"
   ]
  },
  {
   "cell_type": "code",
   "execution_count": 22,
   "id": "9f0cb821",
   "metadata": {},
   "outputs": [
    {
     "name": "stdout",
     "output_type": "stream",
     "text": [
      "216\n",
      "288\n"
     ]
    }
   ],
   "source": [
    "height,width=im1.shape[:2]\n",
    "print(height)\n",
    "print(width)"
   ]
  },
  {
   "cell_type": "code",
   "execution_count": 23,
   "id": "e1750d58",
   "metadata": {},
   "outputs": [],
   "source": [
    "cent=(height/2,width/2)"
   ]
  },
  {
   "cell_type": "code",
   "execution_count": 24,
   "id": "97ff0b8d",
   "metadata": {},
   "outputs": [
    {
     "data": {
      "text/plain": [
       "(108.0, 144.0)"
      ]
     },
     "execution_count": 24,
     "metadata": {},
     "output_type": "execute_result"
    }
   ],
   "source": [
    "cent"
   ]
  },
  {
   "cell_type": "code",
   "execution_count": 25,
   "id": "efca89d0",
   "metadata": {},
   "outputs": [],
   "source": [
    "rotation_matrix=cv2.getRotationMatrix2D(center=cent,angle=30,scale=0.5)"
   ]
  },
  {
   "cell_type": "code",
   "execution_count": 26,
   "id": "8a1b0308",
   "metadata": {},
   "outputs": [
    {
     "name": "stdout",
     "output_type": "stream",
     "text": [
      "[[  0.4330127    0.25        25.2346282 ]\n",
      " [ -0.25         0.4330127  108.64617093]]\n"
     ]
    }
   ],
   "source": [
    "print(rotation_matrix)"
   ]
  },
  {
   "cell_type": "code",
   "execution_count": 30,
   "id": "ff8cc942",
   "metadata": {},
   "outputs": [],
   "source": [
    "rotated_im=cv2.warpAffine(src=im1, M=rotation_matrix, dsize=(width,height))"
   ]
  },
  {
   "cell_type": "code",
   "execution_count": 32,
   "id": "235d8830",
   "metadata": {},
   "outputs": [],
   "source": [
    "cv2.imshow('original image',im1)\n",
    "cv2.waitKey(0)\n",
    "cv2.imshow('rotated image',rotated_im)\n",
    "cv2.waitKey(0)\n",
    "cv2.destroyAllWindows()"
   ]
  },
  {
   "cell_type": "markdown",
   "id": "44ed362f",
   "metadata": {},
   "source": [
    "# Translation matrix\n"
   ]
  },
  {
   "cell_type": "code",
   "execution_count": 34,
   "id": "897ee5d3",
   "metadata": {},
   "outputs": [],
   "source": [
    "tx,ty=width/2,height/2"
   ]
  },
  {
   "cell_type": "code",
   "execution_count": 35,
   "id": "007b8527",
   "metadata": {},
   "outputs": [
    {
     "data": {
      "text/plain": [
       "144.0"
      ]
     },
     "execution_count": 35,
     "metadata": {},
     "output_type": "execute_result"
    }
   ],
   "source": [
    "tx"
   ]
  },
  {
   "cell_type": "code",
   "execution_count": 36,
   "id": "4ee2669e",
   "metadata": {},
   "outputs": [
    {
     "data": {
      "text/plain": [
       "108.0"
      ]
     },
     "execution_count": 36,
     "metadata": {},
     "output_type": "execute_result"
    }
   ],
   "source": [
    "ty"
   ]
  },
  {
   "cell_type": "code",
   "execution_count": 58,
   "id": "64eda198",
   "metadata": {},
   "outputs": [],
   "source": [
    "Translation_matrix=np.array([[0.5,0,tx],[0,0.5,ty]])"
   ]
  },
  {
   "cell_type": "code",
   "execution_count": 59,
   "id": "b3b71bd0",
   "metadata": {},
   "outputs": [
    {
     "data": {
      "text/plain": [
       "array([[  0.5,   0. , 144. ],\n",
       "       [  0. ,   0.5, 108. ]])"
      ]
     },
     "execution_count": 59,
     "metadata": {},
     "output_type": "execute_result"
    }
   ],
   "source": [
    "Translation_matrix"
   ]
  },
  {
   "cell_type": "code",
   "execution_count": 60,
   "id": "a800b4d1",
   "metadata": {},
   "outputs": [],
   "source": [
    "Trans_im=cv2.warpAffine(src=im1, M=Translation_matrix, dsize=(width,height))"
   ]
  },
  {
   "cell_type": "code",
   "execution_count": 61,
   "id": "1f2be1b2",
   "metadata": {},
   "outputs": [],
   "source": [
    "cv2.imshow('original image',im1)\n",
    "cv2.waitKey(0)\n",
    "cv2.imshow('Translated image',Trans_im)\n",
    "cv2.waitKey(0)\n",
    "cv2.destroyAllWindows()"
   ]
  },
  {
   "cell_type": "code",
   "execution_count": null,
   "id": "5ac19079",
   "metadata": {},
   "outputs": [],
   "source": []
  }
 ],
 "metadata": {
  "kernelspec": {
   "display_name": "Python 3 (ipykernel)",
   "language": "python",
   "name": "python3"
  },
  "language_info": {
   "codemirror_mode": {
    "name": "ipython",
    "version": 3
   },
   "file_extension": ".py",
   "mimetype": "text/x-python",
   "name": "python",
   "nbconvert_exporter": "python",
   "pygments_lexer": "ipython3",
   "version": "3.11.5"
  }
 },
 "nbformat": 4,
 "nbformat_minor": 5
}

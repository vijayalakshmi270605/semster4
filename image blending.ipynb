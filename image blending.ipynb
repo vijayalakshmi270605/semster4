{
 "cells": [
  {
   "cell_type": "markdown",
   "id": "09a3d8b1",
   "metadata": {},
   "source": [
    "# IMAGE BLENDING"
   ]
  },
  {
   "cell_type": "code",
   "execution_count": 5,
   "id": "8e0b4ebf",
   "metadata": {},
   "outputs": [],
   "source": [
    "import cv2"
   ]
  },
  {
   "cell_type": "code",
   "execution_count": 6,
   "id": "a11fe435",
   "metadata": {},
   "outputs": [],
   "source": [
    "import numpy as np"
   ]
  },
  {
   "cell_type": "code",
   "execution_count": 7,
   "id": "3075ad3d",
   "metadata": {
    "scrolled": true
   },
   "outputs": [
    {
     "name": "stdout",
     "output_type": "stream",
     "text": [
      "(205, 304, 3)\n"
     ]
    }
   ],
   "source": [
    "im1=cv2.imread(\"C:/Users/SYS73/Pictures/v1.jpg\")\n",
    "print(im1.shape)\n"
   ]
  },
  {
   "cell_type": "code",
   "execution_count": 8,
   "id": "ee2fde9f",
   "metadata": {},
   "outputs": [
    {
     "name": "stdout",
     "output_type": "stream",
     "text": [
      "(197, 316, 3)\n"
     ]
    }
   ],
   "source": [
    "im2=cv2.imread(\"C:/Users/SYS73/Pictures/v2.jpg\")\n",
    "print(im2.shape)"
   ]
  },
  {
   "cell_type": "code",
   "execution_count": 9,
   "id": "6c6fa1a1",
   "metadata": {},
   "outputs": [],
   "source": [
    "#RESIZED"
   ]
  },
  {
   "cell_type": "code",
   "execution_count": 10,
   "id": "0b8b40b2",
   "metadata": {},
   "outputs": [
    {
     "name": "stdout",
     "output_type": "stream",
     "text": [
      "(197, 316, 3)\n"
     ]
    }
   ],
   "source": [
    "im1_resized=cv2.resize(im1,(316,197))\n",
    "print(im1_resized.shape)"
   ]
  },
  {
   "cell_type": "code",
   "execution_count": 11,
   "id": "48f894fa",
   "metadata": {},
   "outputs": [],
   "source": [
    "im3=cv2.addWeighted(im1_resized,0.6,im2,0.5,0)"
   ]
  },
  {
   "cell_type": "code",
   "execution_count": 12,
   "id": "b27e2958",
   "metadata": {},
   "outputs": [],
   "source": [
    "cv2.imshow(\"blended\",im3)\n",
    "cv2.waitKey(0)\n",
    "cv2.destroyAllWindows()"
   ]
  },
  {
   "cell_type": "code",
   "execution_count": 13,
   "id": "00908e1e",
   "metadata": {},
   "outputs": [],
   "source": [
    "#SUBTRACTION"
   ]
  },
  {
   "cell_type": "code",
   "execution_count": 14,
   "id": "887d0d46",
   "metadata": {},
   "outputs": [],
   "source": [
    "imsub=cv2.subtract(im1_resized,im2)"
   ]
  },
  {
   "cell_type": "code",
   "execution_count": 15,
   "id": "2251e821",
   "metadata": {},
   "outputs": [],
   "source": [
    "cv2.imshow(\"sub\",imsub)\n",
    "cv2.waitKey(0)\n",
    "cv2.destroyAllWindows()"
   ]
  },
  {
   "cell_type": "code",
   "execution_count": 16,
   "id": "26176321",
   "metadata": {},
   "outputs": [],
   "source": [
    "#BASIC ARITHMETIC OPERATIONS"
   ]
  },
  {
   "cell_type": "code",
   "execution_count": 17,
   "id": "8f5c6a69",
   "metadata": {},
   "outputs": [],
   "source": [
    "And=cv2.bitwise_and(im1_resized,im3)\n",
    "OR=cv2.bitwise_or(im1_resized,im3)\n",
    "NOT=cv2.bitwise_not(im1_resized)\n",
    "XOR=cv2.bitwise_xor(im1_resized,im3)"
   ]
  },
  {
   "cell_type": "code",
   "execution_count": 18,
   "id": "d376d7e2",
   "metadata": {},
   "outputs": [],
   "source": [
    "cv2.imshow(\"b_and\",And)\n",
    "cv2.waitKey(0)\n",
    "cv2.imshow(\"b_or\",OR)\n",
    "cv2.waitKey(0)\n",
    "cv2.imshow(\"b_not\",NOT)\n",
    "cv2.waitKey(0)\n",
    "cv2.imshow(\"b_xor\",XOR)\n",
    "cv2.waitKey(0)\n",
    "cv2.destroyAllWindows()"
   ]
  },
  {
   "cell_type": "code",
   "execution_count": 19,
   "id": "4724c558",
   "metadata": {},
   "outputs": [],
   "source": [
    "NOR=cv2.bitwise_not(OR)"
   ]
  },
  {
   "cell_type": "code",
   "execution_count": 20,
   "id": "7f9080e9",
   "metadata": {},
   "outputs": [],
   "source": [
    "cv2.imshow(\"not+or\",NOR)\n",
    "cv2.waitKey(0)\n",
    "cv2.imshow(\"b_XOR\",XOR)\n",
    "cv2.waitKey(0)\n",
    "cv2.destroyAllWindows()"
   ]
  },
  {
   "cell_type": "code",
   "execution_count": 21,
   "id": "a84be368",
   "metadata": {},
   "outputs": [],
   "source": [
    "colors_availability=[i for i in dir(cv2) if i.startswith(\"COLOR_HSV\")]"
   ]
  },
  {
   "cell_type": "code",
   "execution_count": 22,
   "id": "3f4f74e3",
   "metadata": {},
   "outputs": [
    {
     "name": "stdout",
     "output_type": "stream",
     "text": [
      "['COLOR_HSV2BGR', 'COLOR_HSV2BGR_FULL', 'COLOR_HSV2RGB', 'COLOR_HSV2RGB_FULL']\n"
     ]
    }
   ],
   "source": [
    "print(colors_availability)"
   ]
  },
  {
   "cell_type": "code",
   "execution_count": 34,
   "id": "c221530e",
   "metadata": {},
   "outputs": [],
   "source": [
    "#ROI REGION OF INTREST\n",
    "roi=im1[0:156,0:226]"
   ]
  },
  {
   "cell_type": "code",
   "execution_count": 35,
   "id": "330681af",
   "metadata": {},
   "outputs": [],
   "source": [
    "cv2.imshow(\"ROI\",roi)\n",
    "cv2.waitKey(0)\n",
    "cv2.destroyAllWindows()"
   ]
  },
  {
   "cell_type": "code",
   "execution_count": null,
   "id": "a3777a2e",
   "metadata": {},
   "outputs": [],
   "source": []
  }
 ],
 "metadata": {
  "kernelspec": {
   "display_name": "Python 3 (ipykernel)",
   "language": "python",
   "name": "python3"
  },
  "language_info": {
   "codemirror_mode": {
    "name": "ipython",
    "version": 3
   },
   "file_extension": ".py",
   "mimetype": "text/x-python",
   "name": "python",
   "nbconvert_exporter": "python",
   "pygments_lexer": "ipython3",
   "version": "3.11.5"
  }
 },
 "nbformat": 4,
 "nbformat_minor": 5
}

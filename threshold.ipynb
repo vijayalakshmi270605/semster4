{
 "cells": [
  {
   "cell_type": "code",
   "execution_count": 2,
   "id": "4fe614b2",
   "metadata": {},
   "outputs": [],
   "source": [
    "import cv2\n",
    "import numpy as np"
   ]
  },
  {
   "cell_type": "code",
   "execution_count": 3,
   "id": "b163afc2",
   "metadata": {},
   "outputs": [],
   "source": [
    "im1=cv2.imread(\"s1.jpg\",0)\n"
   ]
  },
  {
   "cell_type": "code",
   "execution_count": 4,
   "id": "bce0ef18",
   "metadata": {},
   "outputs": [],
   "source": [
    "cv2.imshow(\"im1\",im1)\n",
    "cv2.waitKey(0)\n",
    "cv2.destroyAllWindows()"
   ]
  },
  {
   "cell_type": "code",
   "execution_count": 5,
   "id": "eb78a62c",
   "metadata": {},
   "outputs": [
    {
     "data": {
      "text/plain": [
       "array([[218, 210, 204, ..., 223, 224, 228],\n",
       "       [213, 206, 203, ..., 216, 216, 221],\n",
       "       [204, 200, 200, ..., 209, 210, 215],\n",
       "       ...,\n",
       "       [ 87,  83,  79, ...,  99, 100, 101],\n",
       "       [ 89,  83,  79, ..., 102, 103, 105],\n",
       "       [ 91,  85,  81, ..., 106, 108, 109]], dtype=uint8)"
      ]
     },
     "execution_count": 5,
     "metadata": {},
     "output_type": "execute_result"
    }
   ],
   "source": [
    "im1"
   ]
  },
  {
   "cell_type": "markdown",
   "id": "3a68c790",
   "metadata": {},
   "source": [
    "syntax:ret,varname=cv2.threshold(inputimage,threshold limit,replace value,<threshold type>"
   ]
  },
  {
   "cell_type": "code",
   "execution_count": 20,
   "id": "f832ef10",
   "metadata": {},
   "outputs": [],
   "source": [
    "ret,thres1=cv2.threshold(im1,83,228,cv2.THRESH_BINARY)\n",
    "ret,thres2=cv2.threshold(im1,83,228,cv2.THRESH_BINARY_INV)\n",
    "ret,thres3=cv2.threshold(im1,83,228,cv2.THRESH_TRUNC)\n",
    "ret,thres4=cv2.threshold(im1,83,228,cv2.THRESH_TOZERO)\n",
    "ret,thres5=cv2.threshold(im1,83,228,cv2.THRESH_TOZERO_INV)\n"
   ]
  },
  {
   "cell_type": "code",
   "execution_count": 21,
   "id": "e3ec1e93",
   "metadata": {},
   "outputs": [],
   "source": [
    "cv2.imshow(\"thres1\",thres1)\n",
    "\n",
    "cv2.imshow(\"thres2\",thres2)\n",
    "\n",
    "cv2.imshow(\"thres3\",thres3)\n",
    "\n",
    "cv2.imshow(\"thres4\",thres4)\n",
    "\n",
    "cv2.imshow(\"thres5\",thres5)\n",
    "cv2.waitKey(0)\n",
    "cv2.destroyAllWindows()"
   ]
  },
  {
   "cell_type": "code",
   "execution_count": 8,
   "id": "03794a59",
   "metadata": {},
   "outputs": [],
   "source": [
    "ret,thres=cv2.threshold(im1,83,228,cv2.THRESH_BINARY)"
   ]
  },
  {
   "cell_type": "code",
   "execution_count": 9,
   "id": "ba392ade",
   "metadata": {},
   "outputs": [
    {
     "data": {
      "text/plain": [
       "array([[228, 228, 228, ..., 228, 228, 228],\n",
       "       [228, 228, 228, ..., 228, 228, 228],\n",
       "       [228, 228, 228, ..., 228, 228, 228],\n",
       "       ...,\n",
       "       [228,   0,   0, ..., 228, 228, 228],\n",
       "       [228,   0,   0, ..., 228, 228, 228],\n",
       "       [228, 228,   0, ..., 228, 228, 228]], dtype=uint8)"
      ]
     },
     "execution_count": 9,
     "metadata": {},
     "output_type": "execute_result"
    }
   ],
   "source": [
    "thres"
   ]
  },
  {
   "cell_type": "code",
   "execution_count": 10,
   "id": "e72bbd15",
   "metadata": {},
   "outputs": [
    {
     "name": "stdout",
     "output_type": "stream",
     "text": [
      "83.0\n"
     ]
    }
   ],
   "source": [
    "print(ret)"
   ]
  },
  {
   "cell_type": "code",
   "execution_count": 11,
   "id": "c91340d3",
   "metadata": {},
   "outputs": [],
   "source": [
    "cv2.imshow(\"thres\",thres)\n",
    "cv2.waitKey(0)\n",
    "cv2.destroyAllWindows()"
   ]
  },
  {
   "cell_type": "code",
   "execution_count": null,
   "id": "93e146cb",
   "metadata": {},
   "outputs": [],
   "source": []
  }
 ],
 "metadata": {
  "kernelspec": {
   "display_name": "Python 3 (ipykernel)",
   "language": "python",
   "name": "python3"
  },
  "language_info": {
   "codemirror_mode": {
    "name": "ipython",
    "version": 3
   },
   "file_extension": ".py",
   "mimetype": "text/x-python",
   "name": "python",
   "nbconvert_exporter": "python",
   "pygments_lexer": "ipython3",
   "version": "3.11.5"
  }
 },
 "nbformat": 4,
 "nbformat_minor": 5
}

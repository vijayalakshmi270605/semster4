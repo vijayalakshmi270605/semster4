{
 "cells": [
  {
   "cell_type": "code",
   "execution_count": 1,
   "id": "be0ddd7a",
   "metadata": {},
   "outputs": [],
   "source": [
    "import cv2"
   ]
  },
  {
   "cell_type": "code",
   "execution_count": 2,
   "id": "3dfb85f2",
   "metadata": {},
   "outputs": [],
   "source": [
    "import numpy as np"
   ]
  },
  {
   "cell_type": "code",
   "execution_count": 5,
   "id": "d6644dba",
   "metadata": {},
   "outputs": [],
   "source": [
    "v1=cv2.imread(\"C:/Users/SYS73/Pictures/Saved Pictures/image.jpg\",0)"
   ]
  },
  {
   "cell_type": "code",
   "execution_count": 6,
   "id": "0e5558ba",
   "metadata": {},
   "outputs": [
    {
     "data": {
      "text/plain": [
       "array([[193, 193, 193, ..., 193, 193, 193],\n",
       "       [193, 193, 193, ..., 193, 193, 193],\n",
       "       [193, 193, 193, ..., 193, 193, 193],\n",
       "       ...,\n",
       "       [193, 193, 193, ..., 193, 193, 193],\n",
       "       [193, 193, 193, ..., 193, 193, 193],\n",
       "       [193, 193, 193, ..., 193, 193, 193]], dtype=uint8)"
      ]
     },
     "execution_count": 6,
     "metadata": {},
     "output_type": "execute_result"
    }
   ],
   "source": [
    "v1"
   ]
  },
  {
   "cell_type": "code",
   "execution_count": 7,
   "id": "9dc76ad2",
   "metadata": {},
   "outputs": [],
   "source": [
    "cv2.imshow(\"show\",v1)\n",
    "cv2.waitKey(0)\n",
    "cv2.destroyAllWindows()"
   ]
  },
  {
   "cell_type": "code",
   "execution_count": 9,
   "id": "be3b6caa",
   "metadata": {},
   "outputs": [
    {
     "data": {
      "text/plain": [
       "True"
      ]
     },
     "execution_count": 9,
     "metadata": {},
     "output_type": "execute_result"
    }
   ],
   "source": [
    "cv2.imwrite(\"C:/Users/SYS73/Pictures/Camera Roll/v2.jpg\",v1)"
   ]
  },
  {
   "cell_type": "code",
   "execution_count": null,
   "id": "4a998578",
   "metadata": {},
   "outputs": [],
   "source": []
  },
  {
   "cell_type": "code",
   "execution_count": null,
   "id": "d55d5e7d",
   "metadata": {},
   "outputs": [],
   "source": []
  }
 ],
 "metadata": {
  "kernelspec": {
   "display_name": "Python 3 (ipykernel)",
   "language": "python",
   "name": "python3"
  },
  "language_info": {
   "codemirror_mode": {
    "name": "ipython",
    "version": 3
   },
   "file_extension": ".py",
   "mimetype": "text/x-python",
   "name": "python",
   "nbconvert_exporter": "python",
   "pygments_lexer": "ipython3",
   "version": "3.11.5"
  }
 },
 "nbformat": 4,
 "nbformat_minor": 5
}

{
 "cells": [
  {
   "cell_type": "code",
   "execution_count": 12,
   "id": "83aefdc6",
   "metadata": {},
   "outputs": [],
   "source": [
    "import cv2"
   ]
  },
  {
   "cell_type": "code",
   "execution_count": 13,
   "id": "564c2ce1",
   "metadata": {},
   "outputs": [],
   "source": [
    "import numpy as np"
   ]
  },
  {
   "cell_type": "code",
   "execution_count": 14,
   "id": "2bf72826",
   "metadata": {},
   "outputs": [],
   "source": [
    "puppy=cv2.imread(\"C:/Users/SYS73/Pictures/Saved Pictures/dog-puppy-on-garden-royalty-free-image-1586966191.jpg\",0)"
   ]
  },
  {
   "cell_type": "code",
   "execution_count": 15,
   "id": "7862e50c",
   "metadata": {
    "scrolled": true
   },
   "outputs": [
    {
     "data": {
      "text/plain": [
       "array([[158, 158, 158, ..., 163, 163, 163],\n",
       "       [158, 158, 158, ..., 163, 163, 163],\n",
       "       [158, 158, 158, ..., 163, 163, 163],\n",
       "       ...,\n",
       "       [107, 109, 112, ..., 115, 115, 115],\n",
       "       [110, 111, 114, ..., 115, 115, 115],\n",
       "       [113, 114, 115, ..., 115, 115, 115]], dtype=uint8)"
      ]
     },
     "execution_count": 15,
     "metadata": {},
     "output_type": "execute_result"
    }
   ],
   "source": [
    "puppy"
   ]
  },
  {
   "cell_type": "code",
   "execution_count": 16,
   "id": "a993dae4",
   "metadata": {},
   "outputs": [],
   "source": [
    "cv2.imshow(\"show\",puppy)\n",
    "cv2.waitKey(0)\n",
    "cv2.destroyAllWindows()"
   ]
  },
  {
   "cell_type": "code",
   "execution_count": null,
   "id": "8ae823d4",
   "metadata": {},
   "outputs": [],
   "source": []
  }
 ],
 "metadata": {
  "kernelspec": {
   "display_name": "Python 3 (ipykernel)",
   "language": "python",
   "name": "python3"
  },
  "language_info": {
   "codemirror_mode": {
    "name": "ipython",
    "version": 3
   },
   "file_extension": ".py",
   "mimetype": "text/x-python",
   "name": "python",
   "nbconvert_exporter": "python",
   "pygments_lexer": "ipython3",
   "version": "3.11.5"
  }
 },
 "nbformat": 4,
 "nbformat_minor": 5
}
